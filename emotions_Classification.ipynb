{
 "cells": [
  {
   "cell_type": "code",
   "execution_count": 1,
   "metadata": {
    "hideCode": false,
    "hidePrompt": false
   },
   "outputs": [],
   "source": [
    "# -------------------------------------------------- #\n",
    "# Project: Emotion Classification with EEG Signals\n",
    "# Project done by: \n",
    "#     Pamela Reyna\n",
    "#     Jose Garcia\n",
    "# -------------------------------------------------- #\n",
    "\n",
    "\n",
    "# Importing libraries\n",
    "import numpy as np # linear algebra\n",
    "import pandas as pd # data processing, CSV file I/O (e.g. pd.read_csv)\n",
    "import seaborn as sns\n",
    "import matplotlib.pyplot as plt\n",
    "import torch\n",
    "import torch.nn as nn \n",
    "from torch.utils.data import DataLoader, Dataset, random_split\n",
    "\n",
    "from sklearn.preprocessing import StandardScaler\n",
    "from sklearn.model_selection import GridSearchCV, train_test_split\n",
    "from sklearn.metrics import confusion_matrix,classification_report, accuracy_score\n",
    "from sklearn.naive_bayes import GaussianNB\n",
    "from sklearn import svm\n",
    "from sklearn.svm import SVC\n",
    "from sklearn.linear_model import LogisticRegression\n",
    "from sklearn.tree import DecisionTreeClassifier\n",
    "from sklearn.ensemble import RandomForestClassifier\n",
    "from sklearn.preprocessing import MinMaxScaler\n",
    "\n",
    "from sklearn.ensemble import RandomForestRegressor\n",
    "from sklearn.inspection import permutation_importance\n",
    "# import shap\n",
    "\n",
    "import matplotlib.pyplot as plt\n",
    "\n",
    "# Plot configuration\n",
    "plt.style.use(['science','grid'])"
   ]
  },
  {
   "cell_type": "markdown",
   "metadata": {
    "hideCode": false,
    "hidePrompt": false
   },
   "source": [
    "# Project: Emotion Classification with EEG Signals"
   ]
  },
  {
   "cell_type": "markdown",
   "metadata": {
    "hideCode": false,
    "hidePrompt": false
   },
   "source": [
    "## Exploratory Data Analysis"
   ]
  },
  {
   "cell_type": "code",
   "execution_count": 3,
   "metadata": {
    "hideCode": false,
    "hidePrompt": false
   },
   "outputs": [
    {
     "name": "stdout",
     "output_type": "stream",
     "text": [
      "Length Dataset 2132\n"
     ]
    },
    {
     "data": {
      "text/html": [
       "<div>\n",
       "<style scoped>\n",
       "    .dataframe tbody tr th:only-of-type {\n",
       "        vertical-align: middle;\n",
       "    }\n",
       "\n",
       "    .dataframe tbody tr th {\n",
       "        vertical-align: top;\n",
       "    }\n",
       "\n",
       "    .dataframe thead th {\n",
       "        text-align: right;\n",
       "    }\n",
       "</style>\n",
       "<table border=\"1\" class=\"dataframe\">\n",
       "  <thead>\n",
       "    <tr style=\"text-align: right;\">\n",
       "      <th></th>\n",
       "      <th>mean_0_a</th>\n",
       "      <th>mean_1_a</th>\n",
       "      <th>mean_2_a</th>\n",
       "      <th>mean_3_a</th>\n",
       "      <th>mean_4_a</th>\n",
       "      <th>mean_d_0_a</th>\n",
       "      <th>mean_d_1_a</th>\n",
       "      <th>mean_d_2_a</th>\n",
       "      <th>mean_d_3_a</th>\n",
       "      <th>mean_d_4_a</th>\n",
       "      <th>...</th>\n",
       "      <th>fft_740_b</th>\n",
       "      <th>fft_741_b</th>\n",
       "      <th>fft_742_b</th>\n",
       "      <th>fft_743_b</th>\n",
       "      <th>fft_744_b</th>\n",
       "      <th>fft_745_b</th>\n",
       "      <th>fft_746_b</th>\n",
       "      <th>fft_747_b</th>\n",
       "      <th>fft_748_b</th>\n",
       "      <th>fft_749_b</th>\n",
       "    </tr>\n",
       "  </thead>\n",
       "  <tbody>\n",
       "    <tr>\n",
       "      <th>count</th>\n",
       "      <td>2132.000000</td>\n",
       "      <td>2132.000000</td>\n",
       "      <td>2132.000000</td>\n",
       "      <td>2132.000000</td>\n",
       "      <td>2132.000000</td>\n",
       "      <td>2132.000000</td>\n",
       "      <td>2132.000000</td>\n",
       "      <td>2132.000000</td>\n",
       "      <td>2132.000000</td>\n",
       "      <td>2132.000000</td>\n",
       "      <td>...</td>\n",
       "      <td>2132.000000</td>\n",
       "      <td>2132.000000</td>\n",
       "      <td>2132.000000</td>\n",
       "      <td>2132.000000</td>\n",
       "      <td>2132.000000</td>\n",
       "      <td>2132.000000</td>\n",
       "      <td>2132.000000</td>\n",
       "      <td>2132.000000</td>\n",
       "      <td>2132.000000</td>\n",
       "      <td>2132.000000</td>\n",
       "    </tr>\n",
       "    <tr>\n",
       "      <th>mean</th>\n",
       "      <td>15.256914</td>\n",
       "      <td>27.012462</td>\n",
       "      <td>-104.975629</td>\n",
       "      <td>13.605898</td>\n",
       "      <td>24.150483</td>\n",
       "      <td>0.025378</td>\n",
       "      <td>0.052282</td>\n",
       "      <td>0.301655</td>\n",
       "      <td>0.036793</td>\n",
       "      <td>0.083567</td>\n",
       "      <td>...</td>\n",
       "      <td>-22.938971</td>\n",
       "      <td>104.946111</td>\n",
       "      <td>-51.973647</td>\n",
       "      <td>-51.973647</td>\n",
       "      <td>104.946111</td>\n",
       "      <td>-6.934144</td>\n",
       "      <td>95.104886</td>\n",
       "      <td>-49.061255</td>\n",
       "      <td>-49.061255</td>\n",
       "      <td>95.104886</td>\n",
       "    </tr>\n",
       "    <tr>\n",
       "      <th>std</th>\n",
       "      <td>15.284621</td>\n",
       "      <td>9.265141</td>\n",
       "      <td>206.271960</td>\n",
       "      <td>16.874676</td>\n",
       "      <td>14.187340</td>\n",
       "      <td>17.981796</td>\n",
       "      <td>8.509174</td>\n",
       "      <td>68.098894</td>\n",
       "      <td>17.010031</td>\n",
       "      <td>18.935378</td>\n",
       "      <td>...</td>\n",
       "      <td>298.034311</td>\n",
       "      <td>212.532721</td>\n",
       "      <td>112.160233</td>\n",
       "      <td>112.160233</td>\n",
       "      <td>212.532721</td>\n",
       "      <td>281.040552</td>\n",
       "      <td>203.194976</td>\n",
       "      <td>106.486317</td>\n",
       "      <td>106.486317</td>\n",
       "      <td>203.194976</td>\n",
       "    </tr>\n",
       "    <tr>\n",
       "      <th>min</th>\n",
       "      <td>-61.300000</td>\n",
       "      <td>-114.000000</td>\n",
       "      <td>-970.000000</td>\n",
       "      <td>-137.000000</td>\n",
       "      <td>-217.000000</td>\n",
       "      <td>-218.000000</td>\n",
       "      <td>-255.000000</td>\n",
       "      <td>-1360.000000</td>\n",
       "      <td>-203.000000</td>\n",
       "      <td>-553.000000</td>\n",
       "      <td>...</td>\n",
       "      <td>-1180.000000</td>\n",
       "      <td>-921.000000</td>\n",
       "      <td>-504.000000</td>\n",
       "      <td>-504.000000</td>\n",
       "      <td>-921.000000</td>\n",
       "      <td>-1160.000000</td>\n",
       "      <td>-1010.000000</td>\n",
       "      <td>-521.000000</td>\n",
       "      <td>-521.000000</td>\n",
       "      <td>-1010.000000</td>\n",
       "    </tr>\n",
       "    <tr>\n",
       "      <th>25%</th>\n",
       "      <td>6.577500</td>\n",
       "      <td>26.075000</td>\n",
       "      <td>-195.000000</td>\n",
       "      <td>4.857500</td>\n",
       "      <td>23.600000</td>\n",
       "      <td>-3.105000</td>\n",
       "      <td>-1.340000</td>\n",
       "      <td>-4.002500</td>\n",
       "      <td>-2.905000</td>\n",
       "      <td>-2.622500</td>\n",
       "      <td>...</td>\n",
       "      <td>-106.500000</td>\n",
       "      <td>-8.365000</td>\n",
       "      <td>-92.900000</td>\n",
       "      <td>-92.900000</td>\n",
       "      <td>-8.365000</td>\n",
       "      <td>-102.500000</td>\n",
       "      <td>-8.837500</td>\n",
       "      <td>-87.150000</td>\n",
       "      <td>-87.150000</td>\n",
       "      <td>-8.837500</td>\n",
       "    </tr>\n",
       "    <tr>\n",
       "      <th>50%</th>\n",
       "      <td>14.100000</td>\n",
       "      <td>30.000000</td>\n",
       "      <td>14.950000</td>\n",
       "      <td>15.400000</td>\n",
       "      <td>25.200000</td>\n",
       "      <td>-0.044600</td>\n",
       "      <td>0.132000</td>\n",
       "      <td>0.957500</td>\n",
       "      <td>-0.099750</td>\n",
       "      <td>0.146500</td>\n",
       "      <td>...</td>\n",
       "      <td>83.850000</td>\n",
       "      <td>12.150000</td>\n",
       "      <td>-21.800000</td>\n",
       "      <td>-21.800000</td>\n",
       "      <td>12.150000</td>\n",
       "      <td>89.700000</td>\n",
       "      <td>13.400000</td>\n",
       "      <td>-24.100000</td>\n",
       "      <td>-24.100000</td>\n",
       "      <td>13.400000</td>\n",
       "    </tr>\n",
       "    <tr>\n",
       "      <th>75%</th>\n",
       "      <td>27.700000</td>\n",
       "      <td>31.400000</td>\n",
       "      <td>29.600000</td>\n",
       "      <td>26.500000</td>\n",
       "      <td>26.800000</td>\n",
       "      <td>2.920000</td>\n",
       "      <td>1.540000</td>\n",
       "      <td>6.735000</td>\n",
       "      <td>2.535000</td>\n",
       "      <td>2.870000</td>\n",
       "      <td>...</td>\n",
       "      <td>154.000000</td>\n",
       "      <td>177.000000</td>\n",
       "      <td>12.025000</td>\n",
       "      <td>12.025000</td>\n",
       "      <td>177.000000</td>\n",
       "      <td>153.000000</td>\n",
       "      <td>149.250000</td>\n",
       "      <td>10.925000</td>\n",
       "      <td>10.925000</td>\n",
       "      <td>149.250000</td>\n",
       "    </tr>\n",
       "    <tr>\n",
       "      <th>max</th>\n",
       "      <td>304.000000</td>\n",
       "      <td>42.300000</td>\n",
       "      <td>661.000000</td>\n",
       "      <td>206.000000</td>\n",
       "      <td>213.000000</td>\n",
       "      <td>402.000000</td>\n",
       "      <td>257.000000</td>\n",
       "      <td>1150.000000</td>\n",
       "      <td>349.000000</td>\n",
       "      <td>444.000000</td>\n",
       "      <td>...</td>\n",
       "      <td>1070.000000</td>\n",
       "      <td>843.000000</td>\n",
       "      <td>1490.000000</td>\n",
       "      <td>1490.000000</td>\n",
       "      <td>843.000000</td>\n",
       "      <td>1180.000000</td>\n",
       "      <td>888.000000</td>\n",
       "      <td>1670.000000</td>\n",
       "      <td>1670.000000</td>\n",
       "      <td>888.000000</td>\n",
       "    </tr>\n",
       "  </tbody>\n",
       "</table>\n",
       "<p>8 rows × 2548 columns</p>\n",
       "</div>"
      ],
      "text/plain": [
       "          mean_0_a     mean_1_a     mean_2_a     mean_3_a     mean_4_a  \\\n",
       "count  2132.000000  2132.000000  2132.000000  2132.000000  2132.000000   \n",
       "mean     15.256914    27.012462  -104.975629    13.605898    24.150483   \n",
       "std      15.284621     9.265141   206.271960    16.874676    14.187340   \n",
       "min     -61.300000  -114.000000  -970.000000  -137.000000  -217.000000   \n",
       "25%       6.577500    26.075000  -195.000000     4.857500    23.600000   \n",
       "50%      14.100000    30.000000    14.950000    15.400000    25.200000   \n",
       "75%      27.700000    31.400000    29.600000    26.500000    26.800000   \n",
       "max     304.000000    42.300000   661.000000   206.000000   213.000000   \n",
       "\n",
       "        mean_d_0_a   mean_d_1_a   mean_d_2_a   mean_d_3_a   mean_d_4_a  ...  \\\n",
       "count  2132.000000  2132.000000  2132.000000  2132.000000  2132.000000  ...   \n",
       "mean      0.025378     0.052282     0.301655     0.036793     0.083567  ...   \n",
       "std      17.981796     8.509174    68.098894    17.010031    18.935378  ...   \n",
       "min    -218.000000  -255.000000 -1360.000000  -203.000000  -553.000000  ...   \n",
       "25%      -3.105000    -1.340000    -4.002500    -2.905000    -2.622500  ...   \n",
       "50%      -0.044600     0.132000     0.957500    -0.099750     0.146500  ...   \n",
       "75%       2.920000     1.540000     6.735000     2.535000     2.870000  ...   \n",
       "max     402.000000   257.000000  1150.000000   349.000000   444.000000  ...   \n",
       "\n",
       "         fft_740_b    fft_741_b    fft_742_b    fft_743_b    fft_744_b  \\\n",
       "count  2132.000000  2132.000000  2132.000000  2132.000000  2132.000000   \n",
       "mean    -22.938971   104.946111   -51.973647   -51.973647   104.946111   \n",
       "std     298.034311   212.532721   112.160233   112.160233   212.532721   \n",
       "min   -1180.000000  -921.000000  -504.000000  -504.000000  -921.000000   \n",
       "25%    -106.500000    -8.365000   -92.900000   -92.900000    -8.365000   \n",
       "50%      83.850000    12.150000   -21.800000   -21.800000    12.150000   \n",
       "75%     154.000000   177.000000    12.025000    12.025000   177.000000   \n",
       "max    1070.000000   843.000000  1490.000000  1490.000000   843.000000   \n",
       "\n",
       "         fft_745_b    fft_746_b    fft_747_b    fft_748_b    fft_749_b  \n",
       "count  2132.000000  2132.000000  2132.000000  2132.000000  2132.000000  \n",
       "mean     -6.934144    95.104886   -49.061255   -49.061255    95.104886  \n",
       "std     281.040552   203.194976   106.486317   106.486317   203.194976  \n",
       "min   -1160.000000 -1010.000000  -521.000000  -521.000000 -1010.000000  \n",
       "25%    -102.500000    -8.837500   -87.150000   -87.150000    -8.837500  \n",
       "50%      89.700000    13.400000   -24.100000   -24.100000    13.400000  \n",
       "75%     153.000000   149.250000    10.925000    10.925000   149.250000  \n",
       "max    1180.000000   888.000000  1670.000000  1670.000000   888.000000  \n",
       "\n",
       "[8 rows x 2548 columns]"
      ]
     },
     "execution_count": 3,
     "metadata": {},
     "output_type": "execute_result"
    }
   ],
   "source": [
    "# Data reading\n",
    "data = pd.read_csv('emotions_.csv')\n",
    "# Checking length of dataset\n",
    "print('Length Dataset',len(data))\n",
    "# Summary of numerical attributes for continuous variables\n",
    "data.describe()"
   ]
  },
  {
   "cell_type": "markdown",
   "metadata": {
    "hideCode": false,
    "hidePrompt": false
   },
   "source": [
    "### Analyzing null values"
   ]
  },
  {
   "cell_type": "code",
   "execution_count": 4,
   "metadata": {
    "hideCode": false,
    "hidePrompt": false
   },
   "outputs": [
    {
     "name": "stdout",
     "output_type": "stream",
     "text": [
      "Columns with null data \n",
      " Empty DataFrame\n",
      "Columns: [mean_0_a, mean_1_a, mean_2_a, mean_3_a, mean_4_a, mean_d_0_a, mean_d_1_a, mean_d_2_a, mean_d_3_a, mean_d_4_a, mean_d_0_a2, mean_d_1_a2, mean_d_2_a2, mean_d_3_a2, mean_d_4_a2, mean_d_5_a, mean_d_6_a, mean_d_7_a, mean_d_8_a, mean_d_9_a, mean_d_10_a, mean_d_11_a, mean_d_12_a, mean_d_13_a, mean_d_14_a, mean_d_15_a, mean_d_16_a, mean_d_17_a, mean_d_18_a, mean_d_19_a, mean_d_20_a, mean_d_21_a, mean_d_22_a, mean_d_23_a, mean_d_24_a, mean_d_25_a, mean_d_26_a, mean_d_27_a, mean_d_28_a, mean_d_29_a, mean_d_30_a, mean_d_31_a, mean_d_32_a, mean_d_33_a, mean_d_34_a, mean_d_35_a, mean_d_36_a, mean_d_37_a, mean_d_38_a, mean_d_39_a, mean_d_40_a, mean_d_41_a, mean_d_42_a, mean_d_43_a, mean_d_44_a, mean_d_45_a, mean_d_46_a, mean_d_47_a, mean_d_48_a, mean_d_49_a, stddev_0_a, stddev_1_a, stddev_2_a, stddev_3_a, stddev_4_a, stddev_d_0_a, stddev_d_1_a, stddev_d_2_a, stddev_d_3_a, stddev_d_4_a, moments_0_a, moments_1_a, moments_2_a, moments_3_a, moments_4_a, moments_5_a, moments_6_a, moments_7_a, moments_8_a, moments_9_a, moments_10_a, moments_11_a, moments_12_a, moments_13_a, moments_14_a, moments_15_a, moments_16_a, moments_17_a, moments_18_a, moments_19_a, max_0_a, max_1_a, max_2_a, max_3_a, max_4_a, max_d_0_a, max_d_1_a, max_d_2_a, max_d_3_a, max_d_4_a, ...]\n",
      "Index: []\n",
      "\n",
      "[0 rows x 2549 columns]\n",
      "Columns with null data \n",
      " Empty DataFrame\n",
      "Columns: [mean_0_a, mean_1_a, mean_2_a, mean_3_a, mean_4_a, mean_d_0_a, mean_d_1_a, mean_d_2_a, mean_d_3_a, mean_d_4_a, mean_d_0_a2, mean_d_1_a2, mean_d_2_a2, mean_d_3_a2, mean_d_4_a2, mean_d_5_a, mean_d_6_a, mean_d_7_a, mean_d_8_a, mean_d_9_a, mean_d_10_a, mean_d_11_a, mean_d_12_a, mean_d_13_a, mean_d_14_a, mean_d_15_a, mean_d_16_a, mean_d_17_a, mean_d_18_a, mean_d_19_a, mean_d_20_a, mean_d_21_a, mean_d_22_a, mean_d_23_a, mean_d_24_a, mean_d_25_a, mean_d_26_a, mean_d_27_a, mean_d_28_a, mean_d_29_a, mean_d_30_a, mean_d_31_a, mean_d_32_a, mean_d_33_a, mean_d_34_a, mean_d_35_a, mean_d_36_a, mean_d_37_a, mean_d_38_a, mean_d_39_a, mean_d_40_a, mean_d_41_a, mean_d_42_a, mean_d_43_a, mean_d_44_a, mean_d_45_a, mean_d_46_a, mean_d_47_a, mean_d_48_a, mean_d_49_a, stddev_0_a, stddev_1_a, stddev_2_a, stddev_3_a, stddev_4_a, stddev_d_0_a, stddev_d_1_a, stddev_d_2_a, stddev_d_3_a, stddev_d_4_a, moments_0_a, moments_1_a, moments_2_a, moments_3_a, moments_4_a, moments_5_a, moments_6_a, moments_7_a, moments_8_a, moments_9_a, moments_10_a, moments_11_a, moments_12_a, moments_13_a, moments_14_a, moments_15_a, moments_16_a, moments_17_a, moments_18_a, moments_19_a, max_0_a, max_1_a, max_2_a, max_3_a, max_4_a, max_d_0_a, max_d_1_a, max_d_2_a, max_d_3_a, max_d_4_a, ...]\n",
      "Index: []\n",
      "\n",
      "[0 rows x 2549 columns]\n"
     ]
    }
   ],
   "source": [
    "# data.loc[data.isnull()==True] \n",
    "print('Columns with null data', '\\n', data[data.isnull().any(axis=1)])\n",
    "print('Columns with null data', '\\n', data[data.isna().any(axis=1)])"
   ]
  },
  {
   "cell_type": "markdown",
   "metadata": {
    "hideCode": false,
    "hidePrompt": false
   },
   "source": [
    "#### Not null or NA data inside the dataset"
   ]
  },
  {
   "cell_type": "markdown",
   "metadata": {
    "hideCode": false,
    "hidePrompt": false
   },
   "source": [
    "### Data types"
   ]
  },
  {
   "cell_type": "code",
   "execution_count": 5,
   "metadata": {
    "hideCode": false,
    "hidePrompt": false,
    "scrolled": true
   },
   "outputs": [
    {
     "data": {
      "text/plain": [
       "mean_0_a     float64\n",
       "mean_1_a     float64\n",
       "mean_2_a     float64\n",
       "mean_3_a     float64\n",
       "mean_4_a     float64\n",
       "              ...   \n",
       "fft_746_b    float64\n",
       "fft_747_b    float64\n",
       "fft_748_b    float64\n",
       "fft_749_b    float64\n",
       "label         object\n",
       "Length: 2549, dtype: object"
      ]
     },
     "execution_count": 5,
     "metadata": {},
     "output_type": "execute_result"
    }
   ],
   "source": [
    "data.dtypes"
   ]
  },
  {
   "cell_type": "markdown",
   "metadata": {
    "hideCode": false,
    "hidePrompt": false
   },
   "source": [
    "#### All numeric (Float64) types except for the label, object (string)"
   ]
  },
  {
   "cell_type": "markdown",
   "metadata": {
    "hideCode": false,
    "hidePrompt": false
   },
   "source": [
    "### Distribution"
   ]
  },
  {
   "cell_type": "code",
   "execution_count": 6,
   "metadata": {
    "hideCode": false,
    "hidePrompt": false
   },
   "outputs": [],
   "source": [
    "#Split data for plots\n",
    "pos = data.loc[data[\"label\"]==\"POSITIVE\"]\n",
    "sample_pos = pos.loc[2, 'fft_0_b':'fft_749_b']\n",
    "neg = data.loc[data[\"label\"]==\"NEGATIVE\"]\n",
    "sample_neg = neg.loc[0, 'fft_0_b':'fft_749_b']\n",
    "neu = data.loc[data[\"label\"]==\"NEUTRAL\"]\n",
    "sample_neu = neu.loc[1, 'fft_0_b':'fft_749_b']"
   ]
  },
  {
   "cell_type": "code",
   "execution_count": 7,
   "metadata": {
    "hideCode": false,
    "hidePrompt": false
   },
   "outputs": [
    {
     "data": {
      "image/png": "[encoded data removed]",
      "text/plain": [
       "<Figure size 432x288 with 1 Axes>"
      ]
     },
     "metadata": {
      "needs_background": "light"
     },
     "output_type": "display_data"
    }
   ],
   "source": [
    "## Distrubution od the classes\n",
    "# PLOTS\n",
    "plt.style.use(['science','grid'])\n",
    "plt.rcParams['figure.figsize']=[6,5]\n",
    "plt.rcParams.update({'font.size': 17})\n",
    "\n",
    "# plt.figure(figsize=(25,7))\n",
    "\n",
    "plt.title(\"Data distribution of Emotions\")\n",
    "\n",
    "# plt.style.use('fivethirtyeight')\n",
    "# sns.set_theme(style=\"whitegrid\")\n",
    "# data.plot.hist(bins=50)\n",
    "a = sns.countplot(x='label', data=data)\n",
    "a.bar_label(a.containers[0],size=12)\n",
    "a.set_xlabel(\"Classes\",fontsize=13)\n",
    "a.set_ylabel(\"Count\",fontsize=13)\n",
    "a.axes.set_title(r'\\textbf{Data distribution}',size=20)\n",
    "plt.show()\n",
    "\n",
    "fig = a.get_figure()\n",
    "fig.savefig('img/DataBaseSize.png', dpi=300) \n"
   ]
  },
  {
   "cell_type": "code",
   "execution_count": 8,
   "metadata": {
    "hideCode": false,
    "hidePrompt": false,
    "scrolled": false
   },
   "outputs": [
    {
     "data": {
      "image/png": "[encoded data removed]",
      "text/plain": [
       "<Figure size 576x360 with 1 Axes>"
      ]
     },
     "metadata": {
      "needs_background": "light"
     },
     "output_type": "display_data"
    }
   ],
   "source": [
    "## Distribution of some features in order to check if normalization needed\n",
    "# create a figure with a single axis\n",
    "plt.rcParams['figure.figsize']=[8,5]\n",
    "plt.rcParams.update({'font.size': 20})\n",
    "\n",
    "fig, ax = plt.subplots()\n",
    "\n",
    "# create a box plot for each feature in the dataset\n",
    "ax.boxplot(data[['max_0_a', 'stddev_0_a','min_0_a','entropy0_a','fft_749_b']].values)\n",
    "ax.set_xticklabels(['max_0_a', 'stddev_0_a','min_0_a','entropy0_a','fft_749_b'])\n",
    "\n",
    "plt.xlabel('Features', size = 20)\n",
    "# plt.ylabel('Features', size = 12)\n",
    "plt.title(r'\\textbf{Box plots of some features}', size = 20)\n",
    "plt.savefig('img/boxPlot.png', dpi=300)"
   ]
  },
  {
   "cell_type": "markdown",
   "metadata": {
    "hideCode": false,
    "hidePrompt": false
   },
   "source": [
    "### Frequency features analysis"
   ]
  },
  {
   "cell_type": "markdown",
   "metadata": {
    "hideCode": false,
    "hidePrompt": false
   },
   "source": [
    "#### Take into account that the FFT feature are the top 10 frequencies after filtering DC and Mains fq of each 1s window"
   ]
  },
  {
   "cell_type": "code",
   "execution_count": 17,
   "metadata": {
    "hideCode": false,
    "hidePrompt": false
   },
   "outputs": [
    {
     "data": {
      "image/png": "[encoded data removed]",
      "text/plain": [
       "<Figure size 360x720 with 3 Axes>"
      ]
     },
     "metadata": {
      "needs_background": "light"
     },
     "output_type": "display_data"
    }
   ],
   "source": [
    "# PLOT OF THE FREQUENCY RESULTS\n",
    "\n",
    "#Plotting Positive DataFrame\n",
    "plt.rcParams['figure.figsize']=[5,10]\n",
    "fig,axs = plt.subplots(3,1)\n",
    "\n",
    "x_label = 'Samples'\n",
    "y_label =  'Amplitude [V/Hz]'\n",
    "\n",
    "tittle_size = 15\n",
    "labels_size = 12\n",
    "\n",
    "#Split data for plots\n",
    "sample_pos = pos.loc[2, 'fft_0_b':'fft_749_b']\n",
    "sample_neg = neg.loc[0, 'fft_0_b':'fft_749_b']\n",
    "sample_neu = neu.loc[1, 'fft_0_b':'fft_749_b']\n",
    "\n",
    "# means = \n",
    "\n",
    "axs[0].plot(range(len(sample_pos)), sample_pos)\n",
    "axs[0].set_title(r'\\textbf{FFT features of positive class}',size=tittle_size)\n",
    "axs[0].set_xlabel(x_label,size=labels_size)\n",
    "axs[0].set_ylabel(y_label,size=labels_size)\n",
    "# plt.savefig('img/DataBaseSize.png, dpi=300)\n",
    "                  \n",
    "# '''As we can see, most of the Negative Signals are from greater than 600 to and less than than -600'''\n",
    "\n",
    "#Plotting Negative DataFrame\n",
    "axs[1].plot(range(len(sample_neg)), sample_neg)\n",
    "axs[1].set_title(r'\\textbf{FFT features of negative class}',size=tittle_size)\n",
    "axs[1].set_xlabel(x_label,size=labels_size)\n",
    "axs[1].set_ylabel(y_label,size=labels_size)\n",
    "\n",
    "\n",
    "#Plotting Neutral DataFrame\n",
    "axs[2].plot(range(len(sample_neu)), sample_neu)\n",
    "axs[2].set_title(r'\\textbf{FFT features of neutral class}',size=tittle_size)\n",
    "axs[2].set_xlabel(x_label,size=labels_size)\n",
    "axs[2].set_ylabel(y_label,size=labels_size)\n",
    "# axs[0].set_ylim([0,y_lim])\n",
    "fig.tight_layout()\n",
    "plt.savefig('img/freqRaw.png', dpi=300)"
   ]
  },
  {
   "cell_type": "markdown",
   "metadata": {
    "hideCode": false,
    "hidePrompt": false
   },
   "source": [
    "'''As we can see, most of the Negative Signals are from greater than 600 to and less than than -600'''\n",
    "\n",
    "'''As we can see, most of the Negative Signals are from less than 600 to and greater than -600'''\n",
    "\n",
    "'''As we can see, most of the Neutral Signals ae in between -50 to 250 '''"
   ]
  },
  {
   "cell_type": "markdown",
   "metadata": {
    "hideCode": false,
    "hidePrompt": false
   },
   "source": [
    "## Feature reduction"
   ]
  },
  {
   "cell_type": "code",
   "execution_count": 10,
   "metadata": {
    "hideCode": false,
    "hidePrompt": false
   },
   "outputs": [],
   "source": [
    "# Correlation Matrix\n",
    "corrmat = data.corr()\n",
    "top_corr_features = corrmat.index"
   ]
  },
  {
   "cell_type": "code",
   "execution_count": 11,
   "metadata": {
    "hideCode": false,
    "hidePrompt": false,
    "scrolled": false
   },
   "outputs": [
    {
     "data": {
      "text/html": [
       "<div>\n",
       "<style scoped>\n",
       "    .dataframe tbody tr th:only-of-type {\n",
       "        vertical-align: middle;\n",
       "    }\n",
       "\n",
       "    .dataframe tbody tr th {\n",
       "        vertical-align: top;\n",
       "    }\n",
       "\n",
       "    .dataframe thead th {\n",
       "        text-align: right;\n",
       "    }\n",
       "</style>\n",
       "<table border=\"1\" class=\"dataframe\">\n",
       "  <thead>\n",
       "    <tr style=\"text-align: right;\">\n",
       "      <th></th>\n",
       "      <th>fft_743_b</th>\n",
       "      <th>fft_744_b</th>\n",
       "      <th>fft_745_b</th>\n",
       "      <th>fft_746_b</th>\n",
       "      <th>fft_747_b</th>\n",
       "      <th>fft_748_b</th>\n",
       "      <th>fft_749_b</th>\n",
       "    </tr>\n",
       "  </thead>\n",
       "  <tbody>\n",
       "    <tr>\n",
       "      <th>fft_743_b</th>\n",
       "      <td>1.000000</td>\n",
       "      <td>-0.856312</td>\n",
       "      <td>0.415781</td>\n",
       "      <td>-0.459876</td>\n",
       "      <td>0.499272</td>\n",
       "      <td>0.499272</td>\n",
       "      <td>-0.459876</td>\n",
       "    </tr>\n",
       "    <tr>\n",
       "      <th>fft_744_b</th>\n",
       "      <td>-0.856312</td>\n",
       "      <td>1.000000</td>\n",
       "      <td>-0.431711</td>\n",
       "      <td>0.531019</td>\n",
       "      <td>-0.355117</td>\n",
       "      <td>-0.355117</td>\n",
       "      <td>0.531019</td>\n",
       "    </tr>\n",
       "    <tr>\n",
       "      <th>fft_745_b</th>\n",
       "      <td>0.415781</td>\n",
       "      <td>-0.431711</td>\n",
       "      <td>1.000000</td>\n",
       "      <td>-0.938696</td>\n",
       "      <td>0.834622</td>\n",
       "      <td>0.834622</td>\n",
       "      <td>-0.938696</td>\n",
       "    </tr>\n",
       "    <tr>\n",
       "      <th>fft_746_b</th>\n",
       "      <td>-0.459876</td>\n",
       "      <td>0.531019</td>\n",
       "      <td>-0.938696</td>\n",
       "      <td>1.000000</td>\n",
       "      <td>-0.815108</td>\n",
       "      <td>-0.815108</td>\n",
       "      <td>1.000000</td>\n",
       "    </tr>\n",
       "    <tr>\n",
       "      <th>fft_747_b</th>\n",
       "      <td>0.499272</td>\n",
       "      <td>-0.355117</td>\n",
       "      <td>0.834622</td>\n",
       "      <td>-0.815108</td>\n",
       "      <td>1.000000</td>\n",
       "      <td>1.000000</td>\n",
       "      <td>-0.815108</td>\n",
       "    </tr>\n",
       "    <tr>\n",
       "      <th>fft_748_b</th>\n",
       "      <td>0.499272</td>\n",
       "      <td>-0.355117</td>\n",
       "      <td>0.834622</td>\n",
       "      <td>-0.815108</td>\n",
       "      <td>1.000000</td>\n",
       "      <td>1.000000</td>\n",
       "      <td>-0.815108</td>\n",
       "    </tr>\n",
       "    <tr>\n",
       "      <th>fft_749_b</th>\n",
       "      <td>-0.459876</td>\n",
       "      <td>0.531019</td>\n",
       "      <td>-0.938696</td>\n",
       "      <td>1.000000</td>\n",
       "      <td>-0.815108</td>\n",
       "      <td>-0.815108</td>\n",
       "      <td>1.000000</td>\n",
       "    </tr>\n",
       "  </tbody>\n",
       "</table>\n",
       "</div>"
      ],
      "text/plain": [
       "           fft_743_b  fft_744_b  fft_745_b  fft_746_b  fft_747_b  fft_748_b  \\\n",
       "fft_743_b   1.000000  -0.856312   0.415781  -0.459876   0.499272   0.499272   \n",
       "fft_744_b  -0.856312   1.000000  -0.431711   0.531019  -0.355117  -0.355117   \n",
       "fft_745_b   0.415781  -0.431711   1.000000  -0.938696   0.834622   0.834622   \n",
       "fft_746_b  -0.459876   0.531019  -0.938696   1.000000  -0.815108  -0.815108   \n",
       "fft_747_b   0.499272  -0.355117   0.834622  -0.815108   1.000000   1.000000   \n",
       "fft_748_b   0.499272  -0.355117   0.834622  -0.815108   1.000000   1.000000   \n",
       "fft_749_b  -0.459876   0.531019  -0.938696   1.000000  -0.815108  -0.815108   \n",
       "\n",
       "           fft_749_b  \n",
       "fft_743_b  -0.459876  \n",
       "fft_744_b   0.531019  \n",
       "fft_745_b  -0.938696  \n",
       "fft_746_b   1.000000  \n",
       "fft_747_b  -0.815108  \n",
       "fft_748_b  -0.815108  \n",
       "fft_749_b   1.000000  "
      ]
     },
     "execution_count": 11,
     "metadata": {},
     "output_type": "execute_result"
    }
   ],
   "source": [
    "# Example plot of the last 7 features of the correlation matrix\n",
    "examples = corrmat[corrmat.columns[-7:]][-7:]\n",
    "examples"
   ]
  },
  {
   "cell_type": "code",
   "execution_count": 12,
   "metadata": {
    "hideCode": false,
    "hidePrompt": false,
    "scrolled": false
   },
   "outputs": [
    {
     "data": {
      "image/png": "[encoded data removed]",
      "text/plain": [
       "<Figure size 576x432 with 2 Axes>"
      ]
     },
     "metadata": {
      "needs_background": "light"
     },
     "output_type": "display_data"
    }
   ],
   "source": [
    "#Plotting  example of the correlation matrix\n",
    "plt.rcParams['figure.figsize']=[8,6]\n",
    "plt.rcParams.update({'font.size': 14})\n",
    "\n",
    "g=sns.heatmap(examples ,annot=True,cmap='Blues')\n",
    "\n",
    "plt.xlabel('Features', size = 20)\n",
    "plt.ylabel('Features', size = 20)\n",
    "plt.title(r'\\textbf{Correlation Matrix - Last 7 features}', size = 20)\n",
    "\n",
    "plt.savefig('img/corrMatrix.png', dpi=300)\n"
   ]
  },
  {
   "cell_type": "code",
   "execution_count": 13,
   "metadata": {
    "hideCode": false,
    "hidePrompt": false
   },
   "outputs": [
    {
     "name": "stderr",
     "output_type": "stream",
     "text": [
      "<ipython-input-13-446d8f8162c4>:7: DeprecationWarning: `np.bool` is a deprecated alias for the builtin `bool`. To silence this warning, use `bool` by itself. Doing this will not modify any behavior and is safe. If you specifically wanted the numpy scalar type, use `np.bool_` here.\n",
      "Deprecated in NumPy 1.20; for more details and guidance: https://numpy.org/devdocs/release/1.20.0-notes.html#deprecations\n",
      "  upper = corr_matrix_abs.where(np.triu(np.ones(corr_matrix_abs.shape), k=1).astype(np.bool))\n"
     ]
    },
    {
     "data": {
      "text/html": [
       "<div>\n",
       "<style scoped>\n",
       "    .dataframe tbody tr th:only-of-type {\n",
       "        vertical-align: middle;\n",
       "    }\n",
       "\n",
       "    .dataframe tbody tr th {\n",
       "        vertical-align: top;\n",
       "    }\n",
       "\n",
       "    .dataframe thead th {\n",
       "        text-align: right;\n",
       "    }\n",
       "</style>\n",
       "<table border=\"1\" class=\"dataframe\">\n",
       "  <thead>\n",
       "    <tr style=\"text-align: right;\">\n",
       "      <th></th>\n",
       "      <th>mean_0_a</th>\n",
       "      <th>mean_1_a</th>\n",
       "      <th>mean_2_a</th>\n",
       "      <th>mean_3_a</th>\n",
       "      <th>mean_4_a</th>\n",
       "      <th>mean_d_0_a</th>\n",
       "      <th>mean_d_1_a</th>\n",
       "      <th>mean_d_2_a</th>\n",
       "      <th>mean_d_3_a</th>\n",
       "      <th>mean_d_4_a</th>\n",
       "      <th>...</th>\n",
       "      <th>fft_730_b</th>\n",
       "      <th>fft_732_b</th>\n",
       "      <th>fft_735_b</th>\n",
       "      <th>fft_736_b</th>\n",
       "      <th>fft_737_b</th>\n",
       "      <th>fft_740_b</th>\n",
       "      <th>fft_742_b</th>\n",
       "      <th>fft_745_b</th>\n",
       "      <th>fft_747_b</th>\n",
       "      <th>label</th>\n",
       "    </tr>\n",
       "  </thead>\n",
       "  <tbody>\n",
       "    <tr>\n",
       "      <th>0</th>\n",
       "      <td>4.620</td>\n",
       "      <td>30.3</td>\n",
       "      <td>-356.0</td>\n",
       "      <td>15.60</td>\n",
       "      <td>26.3</td>\n",
       "      <td>1.070</td>\n",
       "      <td>0.411</td>\n",
       "      <td>-15.700</td>\n",
       "      <td>2.060</td>\n",
       "      <td>3.15</td>\n",
       "      <td>...</td>\n",
       "      <td>-606.0</td>\n",
       "      <td>-261.0</td>\n",
       "      <td>-399.0</td>\n",
       "      <td>374.00</td>\n",
       "      <td>-185.00</td>\n",
       "      <td>74.3</td>\n",
       "      <td>20.300</td>\n",
       "      <td>-215.0</td>\n",
       "      <td>-162.00</td>\n",
       "      <td>NEGATIVE</td>\n",
       "    </tr>\n",
       "    <tr>\n",
       "      <th>1</th>\n",
       "      <td>28.800</td>\n",
       "      <td>33.1</td>\n",
       "      <td>32.0</td>\n",
       "      <td>25.80</td>\n",
       "      <td>22.8</td>\n",
       "      <td>6.550</td>\n",
       "      <td>1.680</td>\n",
       "      <td>2.880</td>\n",
       "      <td>3.830</td>\n",
       "      <td>-4.82</td>\n",
       "      <td>...</td>\n",
       "      <td>225.0</td>\n",
       "      <td>-27.7</td>\n",
       "      <td>97.4</td>\n",
       "      <td>-19.00</td>\n",
       "      <td>40.70</td>\n",
       "      <td>130.0</td>\n",
       "      <td>-21.800</td>\n",
       "      <td>182.0</td>\n",
       "      <td>-31.60</td>\n",
       "      <td>NEUTRAL</td>\n",
       "    </tr>\n",
       "    <tr>\n",
       "      <th>2</th>\n",
       "      <td>8.900</td>\n",
       "      <td>29.4</td>\n",
       "      <td>-416.0</td>\n",
       "      <td>16.70</td>\n",
       "      <td>23.7</td>\n",
       "      <td>79.900</td>\n",
       "      <td>3.360</td>\n",
       "      <td>90.200</td>\n",
       "      <td>89.900</td>\n",
       "      <td>2.03</td>\n",
       "      <td>...</td>\n",
       "      <td>-251.0</td>\n",
       "      <td>-95.7</td>\n",
       "      <td>-177.0</td>\n",
       "      <td>159.00</td>\n",
       "      <td>-48.80</td>\n",
       "      <td>-534.0</td>\n",
       "      <td>-233.000</td>\n",
       "      <td>-267.0</td>\n",
       "      <td>-148.00</td>\n",
       "      <td>POSITIVE</td>\n",
       "    </tr>\n",
       "    <tr>\n",
       "      <th>3</th>\n",
       "      <td>14.900</td>\n",
       "      <td>31.6</td>\n",
       "      <td>-143.0</td>\n",
       "      <td>19.80</td>\n",
       "      <td>24.3</td>\n",
       "      <td>-0.584</td>\n",
       "      <td>-0.284</td>\n",
       "      <td>8.820</td>\n",
       "      <td>2.300</td>\n",
       "      <td>-1.97</td>\n",
       "      <td>...</td>\n",
       "      <td>322.0</td>\n",
       "      <td>38.4</td>\n",
       "      <td>245.0</td>\n",
       "      <td>-61.90</td>\n",
       "      <td>-5.08</td>\n",
       "      <td>-183.0</td>\n",
       "      <td>-243.000</td>\n",
       "      <td>132.0</td>\n",
       "      <td>9.53</td>\n",
       "      <td>POSITIVE</td>\n",
       "    </tr>\n",
       "    <tr>\n",
       "      <th>4</th>\n",
       "      <td>28.300</td>\n",
       "      <td>31.3</td>\n",
       "      <td>45.2</td>\n",
       "      <td>27.30</td>\n",
       "      <td>24.5</td>\n",
       "      <td>34.800</td>\n",
       "      <td>-5.790</td>\n",
       "      <td>3.060</td>\n",
       "      <td>41.400</td>\n",
       "      <td>5.52</td>\n",
       "      <td>...</td>\n",
       "      <td>252.0</td>\n",
       "      <td>-37.4</td>\n",
       "      <td>172.0</td>\n",
       "      <td>15.90</td>\n",
       "      <td>-7.25</td>\n",
       "      <td>114.0</td>\n",
       "      <td>38.100</td>\n",
       "      <td>119.0</td>\n",
       "      <td>23.90</td>\n",
       "      <td>NEUTRAL</td>\n",
       "    </tr>\n",
       "    <tr>\n",
       "      <th>...</th>\n",
       "      <td>...</td>\n",
       "      <td>...</td>\n",
       "      <td>...</td>\n",
       "      <td>...</td>\n",
       "      <td>...</td>\n",
       "      <td>...</td>\n",
       "      <td>...</td>\n",
       "      <td>...</td>\n",
       "      <td>...</td>\n",
       "      <td>...</td>\n",
       "      <td>...</td>\n",
       "      <td>...</td>\n",
       "      <td>...</td>\n",
       "      <td>...</td>\n",
       "      <td>...</td>\n",
       "      <td>...</td>\n",
       "      <td>...</td>\n",
       "      <td>...</td>\n",
       "      <td>...</td>\n",
       "      <td>...</td>\n",
       "      <td>...</td>\n",
       "    </tr>\n",
       "    <tr>\n",
       "      <th>2127</th>\n",
       "      <td>32.400</td>\n",
       "      <td>32.2</td>\n",
       "      <td>32.2</td>\n",
       "      <td>30.80</td>\n",
       "      <td>23.4</td>\n",
       "      <td>1.640</td>\n",
       "      <td>-2.030</td>\n",
       "      <td>0.647</td>\n",
       "      <td>-0.121</td>\n",
       "      <td>-1.10</td>\n",
       "      <td>...</td>\n",
       "      <td>260.0</td>\n",
       "      <td>-37.2</td>\n",
       "      <td>194.0</td>\n",
       "      <td>-3.74</td>\n",
       "      <td>-18.40</td>\n",
       "      <td>155.0</td>\n",
       "      <td>0.218</td>\n",
       "      <td>95.2</td>\n",
       "      <td>47.20</td>\n",
       "      <td>NEUTRAL</td>\n",
       "    </tr>\n",
       "    <tr>\n",
       "      <th>2128</th>\n",
       "      <td>16.300</td>\n",
       "      <td>31.3</td>\n",
       "      <td>-284.0</td>\n",
       "      <td>14.30</td>\n",
       "      <td>23.9</td>\n",
       "      <td>4.200</td>\n",
       "      <td>1.090</td>\n",
       "      <td>4.460</td>\n",
       "      <td>4.720</td>\n",
       "      <td>6.63</td>\n",
       "      <td>...</td>\n",
       "      <td>-50.5</td>\n",
       "      <td>-57.1</td>\n",
       "      <td>-152.0</td>\n",
       "      <td>199.00</td>\n",
       "      <td>-93.00</td>\n",
       "      <td>-661.0</td>\n",
       "      <td>-324.000</td>\n",
       "      <td>-35.5</td>\n",
       "      <td>-59.80</td>\n",
       "      <td>POSITIVE</td>\n",
       "    </tr>\n",
       "    <tr>\n",
       "      <th>2129</th>\n",
       "      <td>-0.547</td>\n",
       "      <td>28.3</td>\n",
       "      <td>-259.0</td>\n",
       "      <td>15.80</td>\n",
       "      <td>26.7</td>\n",
       "      <td>9.080</td>\n",
       "      <td>6.900</td>\n",
       "      <td>12.700</td>\n",
       "      <td>2.030</td>\n",
       "      <td>4.64</td>\n",
       "      <td>...</td>\n",
       "      <td>173.0</td>\n",
       "      <td>13.1</td>\n",
       "      <td>-441.0</td>\n",
       "      <td>385.00</td>\n",
       "      <td>-214.00</td>\n",
       "      <td>-232.0</td>\n",
       "      <td>-160.000</td>\n",
       "      <td>408.0</td>\n",
       "      <td>-10.50</td>\n",
       "      <td>NEGATIVE</td>\n",
       "    </tr>\n",
       "    <tr>\n",
       "      <th>2130</th>\n",
       "      <td>16.800</td>\n",
       "      <td>19.9</td>\n",
       "      <td>-288.0</td>\n",
       "      <td>8.34</td>\n",
       "      <td>26.0</td>\n",
       "      <td>2.460</td>\n",
       "      <td>1.580</td>\n",
       "      <td>-16.000</td>\n",
       "      <td>1.690</td>\n",
       "      <td>4.74</td>\n",
       "      <td>...</td>\n",
       "      <td>-722.0</td>\n",
       "      <td>-218.0</td>\n",
       "      <td>151.0</td>\n",
       "      <td>-7.48</td>\n",
       "      <td>34.20</td>\n",
       "      <td>-99.7</td>\n",
       "      <td>-27.600</td>\n",
       "      <td>-656.0</td>\n",
       "      <td>-271.00</td>\n",
       "      <td>NEGATIVE</td>\n",
       "    </tr>\n",
       "    <tr>\n",
       "      <th>2131</th>\n",
       "      <td>27.000</td>\n",
       "      <td>32.0</td>\n",
       "      <td>31.8</td>\n",
       "      <td>25.00</td>\n",
       "      <td>28.9</td>\n",
       "      <td>4.990</td>\n",
       "      <td>1.950</td>\n",
       "      <td>6.210</td>\n",
       "      <td>3.490</td>\n",
       "      <td>-3.51</td>\n",
       "      <td>...</td>\n",
       "      <td>169.0</td>\n",
       "      <td>-19.7</td>\n",
       "      <td>178.0</td>\n",
       "      <td>-26.40</td>\n",
       "      <td>-2.82</td>\n",
       "      <td>181.0</td>\n",
       "      <td>1.810</td>\n",
       "      <td>110.0</td>\n",
       "      <td>22.80</td>\n",
       "      <td>NEUTRAL</td>\n",
       "    </tr>\n",
       "  </tbody>\n",
       "</table>\n",
       "<p>2132 rows × 1292 columns</p>\n",
       "</div>"
      ],
      "text/plain": [
       "      mean_0_a  mean_1_a  mean_2_a  mean_3_a  mean_4_a  mean_d_0_a  \\\n",
       "0        4.620      30.3    -356.0     15.60      26.3       1.070   \n",
       "1       28.800      33.1      32.0     25.80      22.8       6.550   \n",
       "2        8.900      29.4    -416.0     16.70      23.7      79.900   \n",
       "3       14.900      31.6    -143.0     19.80      24.3      -0.584   \n",
       "4       28.300      31.3      45.2     27.30      24.5      34.800   \n",
       "...        ...       ...       ...       ...       ...         ...   \n",
       "2127    32.400      32.2      32.2     30.80      23.4       1.640   \n",
       "2128    16.300      31.3    -284.0     14.30      23.9       4.200   \n",
       "2129    -0.547      28.3    -259.0     15.80      26.7       9.080   \n",
       "2130    16.800      19.9    -288.0      8.34      26.0       2.460   \n",
       "2131    27.000      32.0      31.8     25.00      28.9       4.990   \n",
       "\n",
       "      mean_d_1_a  mean_d_2_a  mean_d_3_a  mean_d_4_a  ...  fft_730_b  \\\n",
       "0          0.411     -15.700       2.060        3.15  ...     -606.0   \n",
       "1          1.680       2.880       3.830       -4.82  ...      225.0   \n",
       "2          3.360      90.200      89.900        2.03  ...     -251.0   \n",
       "3         -0.284       8.820       2.300       -1.97  ...      322.0   \n",
       "4         -5.790       3.060      41.400        5.52  ...      252.0   \n",
       "...          ...         ...         ...         ...  ...        ...   \n",
       "2127      -2.030       0.647      -0.121       -1.10  ...      260.0   \n",
       "2128       1.090       4.460       4.720        6.63  ...      -50.5   \n",
       "2129       6.900      12.700       2.030        4.64  ...      173.0   \n",
       "2130       1.580     -16.000       1.690        4.74  ...     -722.0   \n",
       "2131       1.950       6.210       3.490       -3.51  ...      169.0   \n",
       "\n",
       "      fft_732_b  fft_735_b  fft_736_b  fft_737_b  fft_740_b  fft_742_b  \\\n",
       "0        -261.0     -399.0     374.00    -185.00       74.3     20.300   \n",
       "1         -27.7       97.4     -19.00      40.70      130.0    -21.800   \n",
       "2         -95.7     -177.0     159.00     -48.80     -534.0   -233.000   \n",
       "3          38.4      245.0     -61.90      -5.08     -183.0   -243.000   \n",
       "4         -37.4      172.0      15.90      -7.25      114.0     38.100   \n",
       "...         ...        ...        ...        ...        ...        ...   \n",
       "2127      -37.2      194.0      -3.74     -18.40      155.0      0.218   \n",
       "2128      -57.1     -152.0     199.00     -93.00     -661.0   -324.000   \n",
       "2129       13.1     -441.0     385.00    -214.00     -232.0   -160.000   \n",
       "2130     -218.0      151.0      -7.48      34.20      -99.7    -27.600   \n",
       "2131      -19.7      178.0     -26.40      -2.82      181.0      1.810   \n",
       "\n",
       "      fft_745_b  fft_747_b     label  \n",
       "0        -215.0    -162.00  NEGATIVE  \n",
       "1         182.0     -31.60   NEUTRAL  \n",
       "2        -267.0    -148.00  POSITIVE  \n",
       "3         132.0       9.53  POSITIVE  \n",
       "4         119.0      23.90   NEUTRAL  \n",
       "...         ...        ...       ...  \n",
       "2127       95.2      47.20   NEUTRAL  \n",
       "2128      -35.5     -59.80  POSITIVE  \n",
       "2129      408.0     -10.50  NEGATIVE  \n",
       "2130     -656.0    -271.00  NEGATIVE  \n",
       "2131      110.0      22.80   NEUTRAL  \n",
       "\n",
       "[2132 rows x 1292 columns]"
      ]
     },
     "execution_count": 13,
     "metadata": {},
     "output_type": "execute_result"
    }
   ],
   "source": [
    "## Dropping features above 95% of correlation\n",
    "\n",
    "# Absolute of corre\n",
    "corr_matrix_abs = corrmat.abs()\n",
    "\n",
    "# Select Upper numbers from correlation - the rest is repeted\n",
    "upper = corr_matrix_abs.where(np.triu(np.ones(corr_matrix_abs.shape), k=1).astype(np.bool))\n",
    "\n",
    "# Greater than 0.95\n",
    "to_drop = [column for column in upper.columns if any(upper[column] > 0.95)]\n",
    "\n",
    "#Create Copy\n",
    "data_new = data.copy()\n",
    "# Drop features \n",
    "data_new.drop(to_drop, axis=1, inplace=True)\n",
    "\n",
    "# Filtered data set\n",
    "data_new"
   ]
  },
  {
   "cell_type": "code",
   "execution_count": 14,
   "metadata": {
    "hideCode": false,
    "hidePrompt": false
   },
   "outputs": [],
   "source": [
    "## Mapping functions: \n",
    "    # Discretize label column\n",
    "    # Apply tranformation: Standarization or Normalization\n",
    "\n",
    "## transformation = ['std','norm','none']\n",
    "def Transform_data(data, transformation  = 'std'):\n",
    "    \n",
    "    #Encoding Lables into numbers\n",
    "    encoding_data = ({'NEUTRAL': 0, 'POSITIVE': 1, 'NEGATIVE': 2} )\n",
    "    data_encoded = data.replace(encoding_data)\n",
    "    x=data_encoded.drop([\"label\"]  ,axis=1)\n",
    "    y = data_encoded.loc[:,'label'].values\n",
    "    \n",
    "    if(transformation == 'std'):\n",
    "        # Standarization\n",
    "        scaler = StandardScaler()\n",
    "        # Brain Signals\n",
    "        scaler.fit(x)\n",
    "        X = scaler.transform(x)\n",
    "    if(transformation == 'norm'):\n",
    "        # Normalization\n",
    "        min_max_scaler = MinMaxScaler()\n",
    "        min_max_scaler.fit(x)\n",
    "        X = min_max_scaler.transform(x)\n",
    "    \n",
    "    if(transformation == 'none'):\n",
    "        X = x.values.tolist()\n",
    "        print(X)\n",
    "        \n",
    "    Y = torch.from_numpy(y)\n",
    "    return torch.Tensor(X),Y"
   ]
  },
  {
   "cell_type": "code",
   "execution_count": 15,
   "metadata": {
    "hideCode": false,
    "hidePrompt": false
   },
   "outputs": [],
   "source": [
    "# Splitting dataset into train, val and test\n",
    "# Original dataset\n",
    "X,Y = Transform_data(data, transformation  = 'std')\n",
    "x_train, x_test, y_train, y_test = train_test_split(X, Y, test_size = 0.2, random_state = 4)\n",
    "x_val, x_test, y_val, y_test = train_test_split(x_test, y_test, test_size = 0.5, random_state = 4)\n",
    "\n",
    "# Filtered dataset\n",
    "X_cleaned,Y_cleaned = Transform_data(data_new, transformation  = 'std')\n",
    "x_train_cleaned, x_test_cleaned, y_train_cleaned, y_test_cleaned = train_test_split(X_cleaned, Y_cleaned, test_size = 0.2, random_state = 4)\n",
    "x_val_cleaned, x_test_cleaned, y_val_cleaned, y_test_cleaned = train_test_split(x_test_cleaned, y_test_cleaned, test_size = 0.5, random_state = 4)\n"
   ]
  },
  {
   "cell_type": "code",
   "execution_count": 16,
   "metadata": {
    "hideCode": false,
    "hidePrompt": false
   },
   "outputs": [],
   "source": [
    "## Method not used in the analysis = Testing posibility \n",
    "# RandomForestRegressor for feature importance - Too many features, not useful methods based on results\n",
    "\n",
    "# x_train.shape\n",
    "# rf = RandomForestRegressor(n_estimators=300)\n",
    "# rf.fit(x_train, y_train)\n",
    "# sorted_idx = rf.feature_importances_.argsort()\n",
    "# sort_data_labels = data.columns[1:][sorted_idx]\n",
    "# sort_feature_importance =  rf.feature_importances_[sorted_idx]\n",
    "# plt.barh(sort_data_labels[:10], sort_feature_importance[:10])"
   ]
  },
  {
   "cell_type": "markdown",
   "metadata": {
    "hideCode": false,
    "hidePrompt": false
   },
   "source": [
    "## Models"
   ]
  },
  {
   "cell_type": "code",
   "execution_count": 19,
   "metadata": {
    "hideCode": false,
    "hidePrompt": false
   },
   "outputs": [
    {
     "name": "stdout",
     "output_type": "stream",
     "text": [
      "torch.Size([1705, 2548]) torch.Size([213, 2548]) torch.Size([214, 2548])\n",
      "torch.Size([1705, 1291]) torch.Size([213, 1291]) torch.Size([214, 1291])\n"
     ]
    }
   ],
   "source": [
    "#checking shape of xs\n",
    "print(x_train.shape, x_val.shape, x_test.shape)\n",
    "\n",
    "#checking shape of xs\n",
    "print(x_train_cleaned.shape, x_val_cleaned.shape, x_test_cleaned.shape)"
   ]
  },
  {
   "cell_type": "markdown",
   "metadata": {
    "hideCode": false,
    "hidePrompt": false
   },
   "source": [
    "### MLP Model"
   ]
  },
  {
   "cell_type": "code",
   "execution_count": 20,
   "metadata": {
    "hideCode": false,
    "hidePrompt": false
   },
   "outputs": [],
   "source": [
    "# Model definition: Fully connected layer with RELU as activation function\n",
    "class MyModel(nn.Module):\n",
    "    def __init__(self, input_shape, hidden_size, num_classes):\n",
    "        super(MyModel, self).__init__()\n",
    "        # this is a 2 Layer Multiperceptron\n",
    "        self.fc1 = nn.Linear(input_shape, hidden_size)\n",
    "        # define a non linearity \n",
    "        self.relu = nn.ReLU()\n",
    "        self.fc2 = nn.Linear(hidden_size,num_classes)\n",
    "    def forward(self, x):\n",
    "        out = self.fc1(x)\n",
    "        out = self.relu(out)\n",
    "        out = self.fc2(out)\n",
    "        # for training we dont use probabilities bebcause we want to cross entropy with the logits \n",
    "        return out"
   ]
  },
  {
   "cell_type": "code",
   "execution_count": 21,
   "metadata": {
    "hideCode": false,
    "hidePrompt": false
   },
   "outputs": [],
   "source": [
    "# Network parameter: Learning Rate, Epochs, Batch Size\n",
    "lr = 0.0001\n",
    "num_epochs = 20\n",
    "# good batch sizes: 16 - 128\n",
    "batch_size = 64"
   ]
  },
  {
   "cell_type": "code",
   "execution_count": 22,
   "metadata": {
    "hideCode": false,
    "hidePrompt": false,
    "scrolled": true
   },
   "outputs": [
    {
     "name": "stdout",
     "output_type": "stream",
     "text": [
      "Number of Batches per Epoch:  26\n"
     ]
    }
   ],
   "source": [
    "## Implementation of the network for ORIGINAL Dataset: \n",
    "    # Definition of the optimizer\n",
    "    # Trainig\n",
    "    # Validation\n",
    "    \n",
    "model = MyModel(x_train.shape[1], x_train.shape[1]//2 ,y_train.max()+1)\n",
    "\n",
    "optim = torch.optim.Adam(model.parameters(),lr=lr)\n",
    "loss = nn.CrossEntropyLoss()\n",
    "num_samples = x_train.size(0)\n",
    "# iterate through epochs, i.e. see the entire dataset several times\n",
    "losses = []\n",
    "all_accuracies = []\n",
    "print(\"Number of Batches per Epoch: \", num_samples // batch_size)\n",
    "for epoch in range(num_epochs):\n",
    "    randperm = torch.randperm(num_samples)\n",
    "    x_train_shuffled = x_train[randperm]\n",
    "    y_train_shuffled = y_train[randperm]\n",
    "    \n",
    "    # iterate through sets of samples in the dataset\n",
    "    # see the entire dataset ONCE\n",
    "#     print(\"Epoch: \", epoch)\n",
    "    for batch_id in range(num_samples // batch_size):\n",
    "        optim.zero_grad()\n",
    "        batch_x = x_train[(batch_id*batch_size):((batch_id+1)*batch_size)]\n",
    "        batch_y = y_train[(batch_id*batch_size):((batch_id+1)*batch_size)]\n",
    "        logits = model.forward(batch_x)\n",
    "        output = loss(logits, batch_y)\n",
    "        \n",
    "        # record losses over training steps\n",
    "        losses.append(output.detach())\n",
    "        output.backward()\n",
    "        \n",
    "        # optim.step does the update of the parameters \n",
    "        optim.step()\n",
    "\n",
    "#   print(\"Evaluating performance on validation set\")\n",
    "    accuracies = []\n",
    "    y_pred = torch.Tensor([])\n",
    "    for batch_id in range((x_val.size(0) // batch_size)+1):\n",
    "        batch_x = x_val[(batch_id*batch_size):((batch_id+1)*batch_size)]\n",
    "        batch_y = y_val[(batch_id*batch_size):((batch_id+1)*batch_size)]\n",
    "        logits = model.forward(batch_x)\n",
    "        probs = torch.nn.Softmax(dim=-1)(logits)\n",
    "        pred_classes = torch.argmax(probs, dim=-1)\n",
    "        y_pred = torch.cat((y_pred,pred_classes))\n",
    "        # record accuraries for samples in validation set\n",
    "        accuracies.extend((pred_classes == batch_y).tolist())\n",
    "    # record performance on entire validation set over epochs\n",
    "    # False is zero, True is one\n",
    "    all_accuracies.append(torch.Tensor(accuracies).mean().item())\n",
    "\n"
   ]
  },
  {
   "cell_type": "code",
   "execution_count": 23,
   "metadata": {
    "hideCode": false,
    "hidePrompt": false
   },
   "outputs": [
    {
     "name": "stdout",
     "output_type": "stream",
     "text": [
      "Number of Batches per Epoch:  26\n"
     ]
    }
   ],
   "source": [
    "## Implementation of the network for FILTERED Dataset: \n",
    "    # Definition of the optimizer\n",
    "    # Trainig\n",
    "    # Validation\n",
    "\n",
    "model_features = MyModel(x_train_cleaned.shape[1], x_train_cleaned.shape[1]//2 ,y_train_cleaned.max()+1)\n",
    "\n",
    "optim = torch.optim.Adam(model_features.parameters(),lr=lr)\n",
    "loss = nn.CrossEntropyLoss()\n",
    "num_samples = x_train_cleaned.size(0)\n",
    "# iterate through epochs, i.e. see the entire dataset several times\n",
    "losses_features = []\n",
    "all_accuracies_features = []\n",
    "print(\"Number of Batches per Epoch: \", num_samples // batch_size)\n",
    "for epoch in range(num_epochs):\n",
    "    randperm = torch.randperm(num_samples)\n",
    "    x_train_f_shuffled = x_train_cleaned[randperm]\n",
    "    y_train_f_shuffled = y_train_cleaned[randperm]\n",
    "    # iterate through sets of samples in the dataset\n",
    "    # see the entire dataset ONCE\n",
    "#     print(\"Epoch: \", epoch)\n",
    "    for batch_id in range(num_samples // batch_size):\n",
    "        optim.zero_grad()\n",
    "        batch_x = x_train_cleaned[(batch_id*batch_size):((batch_id+1)*batch_size)]\n",
    "        batch_y = y_train_cleaned[(batch_id*batch_size):((batch_id+1)*batch_size)]\n",
    "        logits = model_features.forward(batch_x)\n",
    "        output = loss(logits, batch_y)\n",
    "        # record losses over training steps\n",
    "        losses_features.append(output.detach())\n",
    "        output.backward()\n",
    "        # optim.step does the update of the parameters \n",
    "        optim.step()\n",
    "\n",
    "    accuracies = []\n",
    "    y_pred_features = torch.Tensor([])\n",
    "    for batch_id in range((x_val_cleaned.size(0) // batch_size)+1):\n",
    "        batch_x = x_val_cleaned[(batch_id*batch_size):((batch_id+1)*batch_size)]\n",
    "        batch_y = y_val_cleaned[(batch_id*batch_size):((batch_id+1)*batch_size)]\n",
    "        logits = model_features.forward(batch_x)\n",
    "        probs = torch.nn.Softmax(dim=-1)(logits)\n",
    "        pred_classes_features = torch.argmax(probs, dim=-1)\n",
    "        y_pred_features = torch.cat((y_pred_features,pred_classes_features))\n",
    "        # record accuraries for samples in validation set\n",
    "        accuracies.extend((pred_classes_features == batch_y).tolist())\n",
    "    # record performance on entire validation set over epochs\n",
    "    # False is zero, True is one\n",
    "    all_accuracies_features.append(torch.Tensor(accuracies).mean().item())\n"
   ]
  },
  {
   "cell_type": "code",
   "execution_count": 24,
   "metadata": {
    "hideCode": false,
    "hidePrompt": false
   },
   "outputs": [],
   "source": [
    "# Creation of function to plot Confusion Matrix\n",
    "\n",
    "def plot_confusion_matrix(cm, names, title='Confusion matrix', cmap=plt.cm.Blues):\n",
    "    plt.imshow(cm, interpolation='nearest', cmap=cmap)\n",
    "    plt.title(title)\n",
    "    plt.colorbar()\n",
    "    tick_marks = np.arange(len(data.label.unique()))\n",
    "    plt.xticks(tick_marks, names, rotation=90)\n",
    "    plt.yticks(tick_marks, names)\n",
    "    plt.tight_layout()\n",
    "    plt.ylabel('True label')\n",
    "    plt.xlabel('Predicted label')"
   ]
  },
  {
   "cell_type": "code",
   "execution_count": 25,
   "metadata": {
    "hideCode": false,
    "hidePrompt": false
   },
   "outputs": [
    {
     "data": {
      "image/png": "[encoded data removed]",
      "text/plain": [
       "<Figure size 720x360 with 4 Axes>"
      ]
     },
     "metadata": {
      "needs_background": "light"
     },
     "output_type": "display_data"
    }
   ],
   "source": [
    "# Compute the confusion matrix ORIGINAL DATA\n",
    "mlp_cm = confusion_matrix(y_val, y_pred)\n",
    "\n",
    "fig, axs = plt.subplots(1, 2, figsize=(10,5))\n",
    "\n",
    "sns.heatmap(mlp_cm, annot=True, cmap='Blues', linewidths=0.6, fmt='g', \n",
    "            xticklabels=[\"Neut\",\"Pos\",\"Neg\"], yticklabels=[\"Neut\",\"Pos\",\"Neg\"], ax=axs[0])\n",
    "axs[0].set_xlabel('Predicted labels', size = 17)\n",
    "axs[0].set_ylabel('True labels', size = 17)\n",
    "axs[0].set_title(r'\\textbf{MLP Confusion Matrix' , size = 17)\n",
    "\n",
    "# Compute the confusion matrix FILTERED DATA\n",
    "mlp_cm_features = confusion_matrix(y_val_cleaned, y_pred_features)\n",
    "\n",
    "#Plotting Positive DataFrame\n",
    "plt.rcParams['figure.figsize']=[6,5]\n",
    "sns.heatmap(mlp_cm_features, annot=True, cmap='Blues', linewidths=0.6, fmt='g', \n",
    "            xticklabels=[\"Neut\",\"Pos\",\"Neg\"], yticklabels=[\"Neut\",\"Pos\",\"Neg\"], ax=axs[1])\n",
    "\n",
    "axs[1].set_xlabel('Predicted labels', size = 17)\n",
    "axs[1].set_ylabel('True labels', size = 17)\n",
    "axs[1].set_title( r'\\textbf{MLP Confusion Matrix - Filtered', size = 17)\n",
    "\n",
    "plt.tight_layout()\n",
    "# Saving plot\n",
    "plt.savefig('img/confMat_both.png', dpi=300)  \n"
   ]
  },
  {
   "cell_type": "code",
   "execution_count": 26,
   "metadata": {
    "hideCode": false,
    "hidePrompt": false
   },
   "outputs": [
    {
     "data": {
      "image/png": "[encoded data removed]",
      "text/plain": [
       "<Figure size 720x360 with 2 Axes>"
      ]
     },
     "metadata": {
      "needs_background": "light"
     },
     "output_type": "display_data"
    }
   ],
   "source": [
    "_, (ax1, ax2) = plt.subplots(1, 2, figsize=(10, 5))\n",
    "ax1.plot(losses)\n",
    "ax2.plot(all_accuracies)\n",
    "plt.show()"
   ]
  },
  {
   "cell_type": "code",
   "execution_count": 27,
   "metadata": {
    "hideCode": false,
    "hidePrompt": false
   },
   "outputs": [
    {
     "name": "stdout",
     "output_type": "stream",
     "text": [
      "Loss on testing: 0.6420287489891052 \n",
      "Accuracy on Training: 100%\n"
     ]
    }
   ],
   "source": [
    "#Loss and Accuracy of model on Testiong Dataset \n",
    "print(f\"Loss on testing: {losses[-1]*100}\",f\"\\nAccuracy on Training: {accuracies[-1]*100}%\")"
   ]
  },
  {
   "cell_type": "markdown",
   "metadata": {
    "hideCode": false,
    "hidePrompt": false
   },
   "source": [
    "### Stadistical Models: GNB, SVM, Logistic Regression, Random Forest"
   ]
  },
  {
   "cell_type": "code",
   "execution_count": 28,
   "metadata": {
    "hideCode": false,
    "hidePrompt": false
   },
   "outputs": [],
   "source": [
    "# NO FILTERED DATA\n",
    "# Convert Tensors to NumPy arrays\n",
    "x_train_np = x_train.numpy()\n",
    "y_train_np = y_train.numpy()\n",
    "x_test_np = x_test.numpy()\n",
    "y_test_np = y_test.numpy()\n",
    "\n",
    "gnb = GaussianNB()\n",
    "svm = SVC(kernel='linear')\n",
    "logreg = LogisticRegression(max_iter=1000)\n",
    "dt = DecisionTreeClassifier()\n",
    "rf = RandomForestClassifier()\n",
    "\n",
    "classifier = [gnb, svm, logreg, rf]\n",
    "score = []\n",
    "cm = []\n",
    "for case in classifier:\n",
    "    case.fit(x_train_np, y_train_np)\n",
    "    pred = case.predict(x_test_np)\n",
    "    accuracy = accuracy_score(y_test_np, pred)\n",
    "    score.append(accuracy)\n",
    "    conf = confusion_matrix(y_test_np, pred)\n",
    "    cm.append(conf)\n",
    "    # Disregard the Decision Tree, since its score is low (93%).\n"
   ]
  },
  {
   "cell_type": "code",
   "execution_count": 29,
   "metadata": {
    "hideCode": false,
    "hidePrompt": false
   },
   "outputs": [
    {
     "name": "stdout",
     "output_type": "stream",
     "text": [
      "The accuracy for GNB is 64.95%\n",
      "The accuracy for SVM is 95.79%\n",
      "The accuracy for Logistic Regression is 96.73%\n",
      "The accuracy for Random Forest is 98.6%\n"
     ]
    },
    {
     "data": {
      "image/png": "[encoded data removed]",
      "text/plain": [
       "<Figure size 720x648 with 8 Axes>"
      ]
     },
     "metadata": {
      "needs_background": "light"
     },
     "output_type": "display_data"
    }
   ],
   "source": [
    "# PLOT FOR STATS MODEL WITHOUT FILTERING\n",
    "\n",
    "title = ['GNB', 'SVM', 'Logistic Regression', 'Random Forest']\n",
    "\n",
    "fig, axs = plt.subplots(2, 2, figsize=(10,9))\n",
    "axs = axs.flatten()\n",
    "for i,cfmtx in enumerate(cm):\n",
    "    sns.heatmap(cfmtx, annot=True, cmap='Blues', linewidths=0.6, fmt='g', \n",
    "                xticklabels=[\"Neut\",\"Pos\",\"Neg\"], yticklabels=[\"Neut\",\"Pos\",\"Neg\"], ax=axs[i])\n",
    "    axs[i].set_xlabel('Predicted labels', size = 17)\n",
    "    axs[i].set_ylabel('True labels', size = 17)\n",
    "    axs[i].set_title( r'\\textbf{{{}}}'.format(title[i] + ' Confusion Matrix') , size = 17)\n",
    "\n",
    "plt.tight_layout()\n",
    "plt.savefig('img/confMat_Stats.png', dpi=300)\n",
    "\n",
    "for name,i in zip(title,score):\n",
    "    print(f'The accuracy for {name} is {round(i*100,2)}%')"
   ]
  },
  {
   "cell_type": "code",
   "execution_count": 33,
   "metadata": {
    "hideCode": false,
    "hidePrompt": false
   },
   "outputs": [],
   "source": [
    "# FILTERED DATA\n",
    "# Convert Tensors to NumPy arrays\n",
    "x_train_np = x_train_cleaned.numpy()\n",
    "y_train_np = y_train_cleaned.numpy()\n",
    "x_test_np = x_test_cleaned.numpy()\n",
    "y_test_np = y_test_cleaned.numpy()\n",
    "\n",
    "gnb = GaussianNB()\n",
    "svm = SVC(kernel='linear')\n",
    "logreg = LogisticRegression(max_iter=1000)\n",
    "dt = DecisionTreeClassifier()\n",
    "rf = RandomForestClassifier()\n",
    "\n",
    "classifier = [gnb, svm, logreg,  rf]\n",
    "score = []\n",
    "cm = []\n",
    "for case in classifier:\n",
    "    case.fit(x_train_np, y_train_np)\n",
    "    pred = case.predict(x_test_np)\n",
    "    accuracy = accuracy_score(y_test_np, pred)\n",
    "    score.append(accuracy)\n",
    "    conf = confusion_matrix(y_test_np, pred)\n",
    "    cm.append(conf)\n",
    "    # Disregard the Decision Tree, since its score is low (93%).\n"
   ]
  },
  {
   "cell_type": "code",
   "execution_count": 34,
   "metadata": {
    "hideCode": false,
    "hidePrompt": false
   },
   "outputs": [
    {
     "name": "stdout",
     "output_type": "stream",
     "text": [
      "The accuracy for GNB is 69.16%\n",
      "The accuracy for SVM is 95.33%\n",
      "The accuracy for Logistic Regression is 96.73%\n",
      "The accuracy for Random Forest is 98.6%\n"
     ]
    },
    {
     "data": {
      "image/png": "[encoded data removed]",
      "text/plain": [
       "<Figure size 720x648 with 8 Axes>"
      ]
     },
     "metadata": {
      "needs_background": "light"
     },
     "output_type": "display_data"
    }
   ],
   "source": [
    "# PLOT FOR STATS MODEL WITH FILTERING\n",
    "\n",
    "title = ['GNB', 'SVM', 'Logistic Regression', 'Random Forest']\n",
    "\n",
    "fig, axs = plt.subplots(2, 2, figsize=(10,9))\n",
    "axs = axs.flatten()\n",
    "for i,cfmtx in enumerate(cm):\n",
    "    sns.heatmap(cfmtx, annot=True, cmap='Blues', linewidths=0.6, fmt='g', \n",
    "                xticklabels=[\"Neut\",\"Pos\",\"Neg\"], yticklabels=[\"Neut\",\"Pos\",\"Neg\"], ax=axs[i])\n",
    "    axs[i].set_xlabel('Predicted labels', size = 17)\n",
    "    axs[i].set_ylabel('True labels', size = 17)\n",
    "    axs[i].set_title( r'\\textbf{{{}}}'.format(title[i] + ' Confusion Matrix') , size = 17)\n",
    "\n",
    "plt.tight_layout()\n",
    "plt.savefig('img/confMat_Stats.png', dpi=300)\n",
    "\n",
    "for name,i in zip(title,score):\n",
    "    print(f'The accuracy for {name} is {round(i*100,2)}%')"
   ]
  },
  {
   "cell_type": "code",
   "execution_count": 35,
   "metadata": {
    "hideCode": false,
    "hidePrompt": false
   },
   "outputs": [
    {
     "name": "stdout",
     "output_type": "stream",
     "text": [
      "Val Accuracy is  tensor(0.9531)\n",
      "Val Accuracy is - cleaned  tensor(0.9484)\n",
      "Test Accuracy is  tensor(0.9720)\n",
      "Test Accuracy is - cleaned  tensor(0.9673)\n"
     ]
    }
   ],
   "source": [
    "## Evaluate TEST and VAL of MLP again for stats\n",
    "\n",
    "accuracies = []\n",
    "for batch_id in range(x_train.shape[0] // batch_size):\n",
    "    batch_x = x_val[(batch_id*batch_size):((batch_id+1)*batch_size)]\n",
    "    batch_y = y_val[(batch_id*batch_size):((batch_id+1)*batch_size)]\n",
    "    logits = model.forward(batch_x)\n",
    "    probs = torch.nn.Softmax(dim=-1)(logits)\n",
    "    pred_classes = torch.argmax(probs, dim=-1)\n",
    "    # record accuraries for samples in validation set\n",
    "    accuracies.extend((pred_classes == batch_y).tolist())\n",
    "print(\"Val Accuracy is \", torch.Tensor(accuracies).mean())\n",
    "\n",
    "accuracies_ = []\n",
    "for batch_id in range(x_train_cleaned.shape[0] // batch_size):\n",
    "    batch_x_ = x_val_cleaned[(batch_id*batch_size):((batch_id+1)*batch_size)]\n",
    "    batch_y_ = y_val_cleaned[(batch_id*batch_size):((batch_id+1)*batch_size)]\n",
    "    logits_ = model_features.forward(batch_x_)\n",
    "    probs_ = torch.nn.Softmax(dim=-1)(logits_)\n",
    "    pred_classes_ = torch.argmax(probs_, dim=-1)\n",
    "    # record accuraries for samples in validation set\n",
    "    accuracies_.extend((pred_classes_ == batch_y_).tolist())\n",
    "print(\"Val Accuracy is - cleaned \", torch.Tensor(accuracies_).mean())\n",
    "\n",
    "accuracies = []\n",
    "for batch_id in range(x_train.shape[0] // batch_size):\n",
    "    batch_x = x_test[(batch_id*batch_size):((batch_id+1)*batch_size)]\n",
    "    batch_y = y_test[(batch_id*batch_size):((batch_id+1)*batch_size)]\n",
    "    logits = model.forward(batch_x)\n",
    "    probs = torch.nn.Softmax(dim=-1)(logits)\n",
    "    pred_classes = torch.argmax(probs, dim=-1)\n",
    "    # record accuraries for samples in validation set\n",
    "    accuracies.extend((pred_classes == batch_y).tolist())\n",
    "print(\"Test Accuracy is \", torch.Tensor(accuracies).mean())\n",
    "\n",
    "accuracies_ = []\n",
    "for batch_id in range(x_train_cleaned.shape[0] // batch_size):\n",
    "    batch_x_ = x_test_cleaned[(batch_id*batch_size):((batch_id+1)*batch_size)]\n",
    "    batch_y_ = y_test_cleaned[(batch_id*batch_size):((batch_id+1)*batch_size)]\n",
    "    logits_ = model_features.forward(batch_x_)\n",
    "    probs_ = torch.nn.Softmax(dim=-1)(logits_)\n",
    "    pred_classes_ = torch.argmax(probs_, dim=-1)\n",
    "    # record accuraries for samples in validation set\n",
    "    accuracies_.extend((pred_classes_ == batch_y_).tolist())\n",
    "print(\"Test Accuracy is - cleaned \", torch.Tensor(accuracies_).mean())"
   ]
  },
  {
   "cell_type": "markdown",
   "metadata": {
    "hideCode": false,
    "hidePrompt": false
   },
   "source": [
    "### Results without stadarization\n",
    "#### FOR MLP\n",
    "\n",
    "Val Accuracy is  tensor(0.8826)\n",
    "\n",
    "Val Accuracy is - cleaned  tensor(0.8638)\n",
    "\n",
    "Test Accuracy is  tensor(0.8832)\n",
    "\n",
    "Test Accuracy is - cleaned  tensor(0.8925)\n",
    "\n",
    "\n",
    "#### FOR STATS WITHOUT FILTER\n",
    "\n",
    "The accuracy for GNB is 40.19%\n",
    "\n",
    "The accuracy for SVM is Hardware issues\n",
    "\n",
    "The accuracy for Logistic Regression is 34.11%\n",
    "\n",
    "The accuracy for Random Forest is 98.6%\n",
    "\n",
    "#### FOR STATS  FILTERED\n",
    "\n",
    "The accuracy for GNB is 34.58%\n",
    "\n",
    "The accuracy for SVM is Hardware issues\n",
    "\n",
    "The accuracy for GNB is 34.11%\n",
    "\n",
    "The accuracy for GNB is 99.07%"
   ]
  },
  {
   "cell_type": "markdown",
   "metadata": {
    "hideCode": false,
    "hidePrompt": false
   },
   "source": [
    "### Results with stadarization - We take this model at the end to present\n",
    "#### FOR MLP\n",
    "\n",
    "Val Accuracy is  tensor(0.9531)\n",
    "\n",
    "Val Accuracy is - cleaned  tensor(0.9484)\n",
    "\n",
    "Test Accuracy is  tensor(0.9673)\n",
    "\n",
    "Test Accuracy is - cleaned  tensor(0.9626)\n",
    "\n",
    "#### FOR STATS WITHOUT FILTER\n",
    "\n",
    "The accuracy for GNB is 64.95%\n",
    "\n",
    "The accuracy for SVM is 95.79%\n",
    "\n",
    "The accuracy for Logistic Regression is 96.73%\n",
    "\n",
    "The accuracy for Random Forest is 99.07%\n",
    "\n",
    "#### FOR STATS  FILTERED\n",
    "\n",
    "The accuracy for GNB is 69.16%\n",
    "\n",
    "The accuracy for SVM is 95.33%\n",
    "\n",
    "The accuracy for Logistic Regression is 96.73%\n",
    "\n",
    "The accuracy for Random Forest is 99.07%"
   ]
  },
  {
   "cell_type": "markdown",
   "metadata": {
    "hideCode": false,
    "hidePrompt": false
   },
   "source": [
    "### Results with Normalization\n",
    "#### FOR MLP\n",
    "\n",
    "Val Accuracy is  tensor(0.8967)\n",
    "\n",
    "Val Accuracy is - cleaned  tensor(0.9484)\n",
    "\n",
    "Test Accuracy is  tensor(0.8925)\n",
    "\n",
    "Test Accuracy is - cleaned  tensor(0.9720)\n",
    "\n",
    "#### FOR STATS WITHOUT FILTER\n",
    "The accuracy for GNB is 65.42%\n",
    "\n",
    "The accuracy for SVM is 94.39%\n",
    "\n",
    "The accuracy for Logistic Regression is 93.93%\n",
    "\n",
    "The accuracy for Random Forest is 99.07%\n",
    "\n",
    "#### FOR STATS  FILTERED\n",
    "The accuracy for GNB is 69.16%\n",
    "\n",
    "The accuracy for SVM is 93.93%\n",
    "\n",
    "The accuracy for Logistic Regression is 93.93%\n",
    "\n",
    "The accuracy for Random Forest is 98.6%"
   ]
  },
  {
   "cell_type": "code",
   "execution_count": null,
   "metadata": {},
   "outputs": [],
   "source": []
  },
  {
   "cell_type": "code",
   "execution_count": null,
   "metadata": {
    "hideCode": false,
    "hidePrompt": false
   },
   "outputs": [],
   "source": [
    "# Entonces está el amanecer y una fría soledad en la que caben la alegría,\n",
    "# los recuerdos, usted y acaso tantos más."
   ]
  }
 ],
 "metadata": {
  "hide_code_all_hidden": false,
  "kernelspec": {
   "display_name": "Python 3",
   "language": "python",
   "name": "python3"
  },
  "language_info": {
   "codemirror_mode": {
    "name": "ipython",
    "version": 3
   },
   "file_extension": ".py",
   "mimetype": "text/x-python",
   "name": "python",
   "nbconvert_exporter": "python",
   "pygments_lexer": "ipython3",
   "version": "3.9.7"
  },
  "vscode": {
   "interpreter": {
    "hash": "1342e9628d072f97ad6233bab4e6d3552ea31ebcad9c1b6c5da145a52f5d27a4"
   }
  }
 },
 "nbformat": 4,
 "nbformat_minor": 2
}
